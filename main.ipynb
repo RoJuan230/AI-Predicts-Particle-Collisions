{
 "cells": [
  {
   "cell_type": "markdown",
   "metadata": {},
   "source": [
    "#### Import modules & prepare data"
   ]
  },
  {
   "cell_type": "code",
   "execution_count": 2,
   "metadata": {},
   "outputs": [
    {
     "name": "stdout",
     "output_type": "stream",
     "text": [
      "(1259300, 10, 10)\n",
      "(1259300,)\n"
     ]
    }
   ],
   "source": [
    "# Import sklearn/tensorflow modules.\r\n",
    "import tensorflow as tf\r\n",
    "from tensorflow.keras.utils import to_categorical\r\n",
    "from tensorflow.keras.models import Sequential\r\n",
    "from tensorflow.keras.layers import Conv2D, MaxPooling2D, Dense, Flatten\r\n",
    "from sklearn.model_selection import train_test_split\r\n",
    "from sklearn.preprocessing import StandardScaler\r\n",
    "\r\n",
    "# Import other modules.\r\n",
    "import numpy as np\r\n",
    "import pandas as pd\r\n",
    "import matplotlib.pyplot as plt\r\n",
    "import pickle\r\n",
    "from os import walk\r\n",
    "from time import sleep\r\n",
    "from IPython.display import clear_output\r\n",
    "%matplotlib inline\r\n",
    "\r\n",
    "# Data source: https://www.kaggle.com/stephenmugisha/particle-collisions\r\n",
    "\r\n",
    "_, _, files = next(walk('data'))\r\n",
    "\r\n",
    "target_names = {\r\n",
    "    '0': 'electron',    # Negatively charged particle that is a lepton  (doesn't take part in strong force).\r\n",
    "    '1': 'muon',    # Electron with 200 times more mass and makes up lots of cosmic radiation.\r\n",
    "    '2': 'pion',    # Meson (connects with strong force) that can be positive, negative, or neutral\r\n",
    "    '3': 'kaon',    # Pion with more mass.\r\n",
    "    '4': 'proton'    # Positively charged particle with 2 up quarks and 1 down quark.\r\n",
    "}\r\n",
    "\r\n",
    "# Check how the data is formatted/stored.\r\n",
    "file_test = open(f'data/{files[0]}', 'rb')\r\n",
    "file = pickle.load(file_test)\r\n",
    "\r\n",
    "print(file[0].shape)    # Group of 3000 images.\r\n",
    "print(file[0][0].shape)    # Check first image.\r\n",
    "print(file[1].shape)    # Group of 3000 targets.\r\n",
    "print(file[1][0])    #    Classified as 'pion.'\r\n",
    "\r\n",
    "# Collect all the data.\r\n",
    "data = []\r\n",
    "target = []\r\n",
    "\r\n",
    "for file in files:\r\n",
    "    file = open(f'data/{files[0]}', 'rb')\r\n",
    "    file =  pickle.load(file)\r\n",
    "\r\n",
    "    for sample, sample_target in zip(file[0], file[1]):\r\n",
    "        data.append(sample)\r\n",
    "        target.append(sample_target)\r\n",
    "\r\n",
    "data = np.array(data)\r\n",
    "target = np.array(target)\r\n",
    "\r\n",
    "sleep(7)\r\n",
    "clear_output()\r\n",
    "\r\n",
    "print(data.shape)\r\n",
    "print(target.shape)\r\n"
   ]
  },
  {
   "cell_type": "markdown",
   "metadata": {},
   "source": [
    "#### Data analysis"
   ]
  },
  {
   "cell_type": "code",
   "execution_count": 3,
   "metadata": {},
   "outputs": [
    {
     "name": "stdout",
     "output_type": "stream",
     "text": [
      "(944475, 10, 10, 1)\n",
      "(944475, 5)\n",
      "(314825, 10, 10, 1)\n",
      "(314825, 5)\n"
     ]
    },
    {
     "data": {
      "image/png": "[encoded data removed]",
      "text/plain": "<Figure size 648x432 with 6 Axes>"
     },
     "metadata": {},
     "output_type": "display_data"
    }
   ],
   "source": [
    "# Check for NaN values.\r\n",
    "print(np.isnan(np.sum(data)))    # -> False\r\n",
    "\r\n",
    "# Check range of values.\r\n",
    "print(np.max(data), np.min(data))    # -> 8, 0\r\n",
    "\r\n",
    "sleep(4)\r\n",
    "clear_output()\r\n",
    "\r\n",
    "# Edit target values to 0, 1, 2....\r\n",
    "new_target = []\r\n",
    "\r\n",
    "for tar in target:\r\n",
    "    if tar == 11:\r\n",
    "        new_target.append(0)\r\n",
    "    elif tar == 13:\r\n",
    "        new_target.append(1)\r\n",
    "    elif tar == 211:\r\n",
    "        new_target.append(2)\r\n",
    "    elif tar == 321:\r\n",
    "        new_target.append(3)\r\n",
    "    else:\r\n",
    "        new_target.append(4)\r\n",
    "    \r\n",
    "target = np.array(new_target)\r\n",
    "\r\n",
    "# Get indexes for each different target possibility.\r\n",
    "indexes = [\r\n",
    "    np.where(target == 0)[0][0],\r\n",
    "    np.where(target == 1)[0][0],\r\n",
    "    np.where(target == 2)[0][0],\r\n",
    "    np.where(target == 3)[0][0],\r\n",
    "    np.where(target == 4)[0][0],\r\n",
    "]\r\n",
    "\r\n",
    "samples = [data[index] for index in indexes]\r\n",
    "samples_target = [target_names[str(target[index])] for index in indexes]\r\n",
    "\r\n",
    "fig, axs = plt.subplots(2, 3, figsize=(9, 6), subplot_kw={\r\n",
    "    'yticks': (),\r\n",
    "    'xticks': ()\r\n",
    "})\r\n",
    "\r\n",
    "axs = [ax for ax in axs.flatten()]\r\n",
    "\r\n",
    "for sample, sample_target, ax in zip(samples, samples_target, axs):\r\n",
    "    ax.imshow(sample, cmap='binary')\r\n",
    "    ax.set_title(f'Sample Target {sample_target}')\r\n",
    "\r\n",
    "# Split the data\r\n",
    "X_train, X_test, y_train, y_test = train_test_split(data, target, stratify=target)\r\n",
    "\r\n",
    "# Change the train and test datasets.\r\n",
    "scaler = StandardScaler()\r\n",
    "\r\n",
    "# Reshape + change data\r\n",
    "X_train = X_train.reshape(X_train.shape[0], -1)\r\n",
    "X_test = X_test.reshape(X_test.shape[0], -1)\r\n",
    "\r\n",
    "# Scale and reshape data back to og form.\r\n",
    "X_train = (scaler.fit_transform(X_train)).reshape((X_train.shape[0], 10, 10, 1))\r\n",
    "X_test = (scaler.transform(X_test)).reshape((X_test.shape[0], 10, 10, 1))\r\n",
    "\r\n",
    "y_train = to_categorical(y_train)\r\n",
    "y_test = to_categorical(y_test)\r\n",
    "\r\n",
    "print(X_train.shape)\r\n",
    "print(y_train.shape)\r\n",
    "print(X_test.shape)\r\n",
    "print(y_test.shape)\r\n"
   ]
  },
  {
   "cell_type": "markdown",
   "metadata": {},
   "source": [
    "#### Create Model"
   ]
  },
  {
   "cell_type": "code",
   "execution_count": 4,
   "metadata": {},
   "outputs": [
    {
     "ename": "TypeError",
     "evalue": "__init__() missing 2 required positional arguments: 'filters' and 'kernel_size'",
     "output_type": "error",
     "traceback": [
      "\u001b[1;31m---------------------------------------------------------------------------\u001b[0m",
      "\u001b[1;31mTypeError\u001b[0m                                 Traceback (most recent call last)",
      "\u001b[1;32m<ipython-input-4-e310c370c97c>\u001b[0m in \u001b[0;36m<module>\u001b[1;34m\u001b[0m\n\u001b[0;32m     16\u001b[0m         \u001b[1;32mreturn\u001b[0m \u001b[0mself\u001b[0m\u001b[1;33m.\u001b[0m\u001b[0moutput_layer\u001b[0m\u001b[1;33m(\u001b[0m\u001b[0mh\u001b[0m\u001b[1;33m)\u001b[0m\u001b[1;33m\u001b[0m\u001b[1;33m\u001b[0m\u001b[0m\n\u001b[0;32m     17\u001b[0m \u001b[1;33m\u001b[0m\u001b[0m\n\u001b[1;32m---> 18\u001b[1;33m \u001b[0mmodel\u001b[0m \u001b[1;33m=\u001b[0m \u001b[0mmodel\u001b[0m\u001b[1;33m(\u001b[0m\u001b[1;33m)\u001b[0m\u001b[1;33m\u001b[0m\u001b[1;33m\u001b[0m\u001b[0m\n\u001b[0m\u001b[0;32m     19\u001b[0m \u001b[1;33m\u001b[0m\u001b[0m\n\u001b[0;32m     20\u001b[0m \u001b[0mmodel\u001b[0m\u001b[1;33m.\u001b[0m\u001b[0mbuild\u001b[0m\u001b[1;33m(\u001b[0m\u001b[0minput_shape\u001b[0m\u001b[1;33m=\u001b[0m\u001b[1;33m(\u001b[0m\u001b[1;36m1\u001b[0m\u001b[1;33m,\u001b[0m \u001b[1;36m10\u001b[0m\u001b[1;33m,\u001b[0m \u001b[1;36m10\u001b[0m\u001b[1;33m,\u001b[0m \u001b[1;36m1\u001b[0m\u001b[1;33m)\u001b[0m\u001b[1;33m)\u001b[0m\u001b[1;33m\u001b[0m\u001b[1;33m\u001b[0m\u001b[0m\n",
      "\u001b[1;32m<ipython-input-4-e310c370c97c>\u001b[0m in \u001b[0;36m__init__\u001b[1;34m(self)\u001b[0m\n\u001b[0;32m      2\u001b[0m     \u001b[1;32mdef\u001b[0m \u001b[0m__init__\u001b[0m\u001b[1;33m(\u001b[0m\u001b[0mself\u001b[0m\u001b[1;33m)\u001b[0m\u001b[1;33m:\u001b[0m\u001b[1;33m\u001b[0m\u001b[1;33m\u001b[0m\u001b[0m\n\u001b[0;32m      3\u001b[0m         \u001b[0msuper\u001b[0m\u001b[1;33m(\u001b[0m\u001b[0mmodel\u001b[0m\u001b[1;33m,\u001b[0m \u001b[0mself\u001b[0m\u001b[1;33m)\u001b[0m\u001b[1;33m.\u001b[0m\u001b[0m__init__\u001b[0m\u001b[1;33m(\u001b[0m\u001b[1;33m)\u001b[0m\u001b[1;33m\u001b[0m\u001b[1;33m\u001b[0m\u001b[0m\n\u001b[1;32m----> 4\u001b[1;33m         \u001b[0mself\u001b[0m\u001b[1;33m.\u001b[0m\u001b[0minput_1\u001b[0m \u001b[1;33m=\u001b[0m \u001b[0mConv2D\u001b[0m\u001b[1;33m(\u001b[0m\u001b[1;33m)\u001b[0m\u001b[1;33m\u001b[0m\u001b[1;33m\u001b[0m\u001b[0m\n\u001b[0m\u001b[0;32m      5\u001b[0m         \u001b[0mself\u001b[0m\u001b[1;33m.\u001b[0m\u001b[0minput_2\u001b[0m \u001b[1;33m=\u001b[0m \u001b[0mMaxPooling2D\u001b[0m\u001b[1;33m(\u001b[0m\u001b[1;33m(\u001b[0m\u001b[1;36m2\u001b[0m\u001b[1;33m,\u001b[0m \u001b[1;36m2\u001b[0m\u001b[1;33m)\u001b[0m\u001b[1;33m)\u001b[0m\u001b[1;33m\u001b[0m\u001b[1;33m\u001b[0m\u001b[0m\n\u001b[0;32m      6\u001b[0m         \u001b[0mself\u001b[0m\u001b[1;33m.\u001b[0m\u001b[0minput_3\u001b[0m \u001b[1;33m=\u001b[0m \u001b[0mFlatten\u001b[0m\u001b[1;33m(\u001b[0m\u001b[1;33m)\u001b[0m    \u001b[1;31m# Changes the shape from (1, 10, 10, 1) -> (1, 100)\u001b[0m\u001b[1;33m\u001b[0m\u001b[1;33m\u001b[0m\u001b[0m\n",
      "\u001b[1;31mTypeError\u001b[0m: __init__() missing 2 required positional arguments: 'filters' and 'kernel_size'"
     ]
    }
   ],
   "source": [
    "class model(tf.keras.Model):\r\n",
    "    def __init__(self):\r\n",
    "        super(model, self).__init__()\r\n",
    "        self.input_2 = MaxPooling2D((2, 2))\r\n",
    "        self.input_3 = Flatten()    # Changes the shape from (1, 10, 10, 1) -> (1, 100)\r\n",
    "        self.hidden_1 = Dense(50, activation='relu')\r\n",
    "        self.hidden_2 = Dense(50, activation='relu')\r\n",
    "        self.output_layer = Dense(5, activation='softmax')\r\n",
    "    \r\n",
    "    def call(self, inputs):\r\n",
    "        h = self.input_1(inputs)\r\n",
    "        h = self.input_2(h)\r\n",
    "        h = self.hidden_1(h)\r\n",
    "        h = self.hidden_2(h)\r\n",
    "        return self.output_layer(h)\r\n",
    "\r\n",
    "model = model()\r\n",
    "\r\n",
    "model.build(input_shape=(1, 10, 10, 1))\r\n",
    "model.compile(optimizer='sgd', loss='categorical_crossentropy', metrics=['accuracy'])\r\n",
    "\r\n",
    "results = model.fit(X_train, y_train, epochs=5, batch_size=128)\r\n"
   ]
  }
 ],
 "metadata": {
  "kernelspec": {
   "display_name": "Python 3.8.8 64-bit ('rohan': virtualenv)",
   "metadata": {
    "interpreter": {
     "hash": "b3484043eee5ff5607422914000474778a896e23428dfc35313a8be46de07a70"
    }
   },
   "name": "python3"
  },
  "language_info": {
   "codemirror_mode": {
    "name": "ipython",
    "version": 3
   },
   "file_extension": ".py",
   "mimetype": "text/x-python",
   "name": "python",
   "nbconvert_exporter": "python",
   "pygments_lexer": "ipython3",
   "version": "3.8.8"
  },
  "orig_nbformat": 2
 },
 "nbformat": 4,
 "nbformat_minor": 2
}