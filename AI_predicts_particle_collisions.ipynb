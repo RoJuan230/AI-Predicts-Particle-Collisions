{
 "metadata": {
  "language_info": {
   "codemirror_mode": {
    "name": "ipython",
    "version": 3
   },
   "file_extension": ".py",
   "mimetype": "text/x-python",
   "name": "python",
   "nbconvert_exporter": "python",
   "pygments_lexer": "ipython3",
   "version": "3.8.5-final"
  },
  "orig_nbformat": 2,
  "kernelspec": {
   "name": "python3",
   "display_name": "Python 3.8.5 64-bit (conda)",
   "metadata": {
    "interpreter": {
     "hash": "b3484043eee5ff5607422914000474778a896e23428dfc35313a8be46de07a70"
    }
   }
  }
 },
 "nbformat": 4,
 "nbformat_minor": 2,
 "cells": [
  {
   "cell_type": "code",
   "execution_count": 14,
   "metadata": {},
   "outputs": [
    {
     "output_type": "stream",
     "name": "stdout",
     "text": [
      "350\n"
     ]
    }
   ],
   "source": [
    "import pickle\n",
    "from os import walk\n",
    "\n",
    "_, _, data_files = next(walk('data'))\n",
    "\n",
    "\n"
   ]
  }
 ]
}