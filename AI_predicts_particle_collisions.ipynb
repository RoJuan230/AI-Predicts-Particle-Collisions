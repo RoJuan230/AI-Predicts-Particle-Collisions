{
 "cells": [
  {
   "cell_type": "markdown",
   "metadata": {},
   "source": [
    "#### Import modules & prepare data"
   ]
  },
  {
   "cell_type": "code",
   "execution_count": 1,
   "metadata": {},
   "outputs": [
    {
     "name": "stdout",
     "output_type": "stream",
     "text": [
      "(74077, 10, 10)\n",
      "(74077,)\n"
     ]
    }
   ],
   "source": [
    "# Import sklearn/tensorflow modules.\r\n",
    "import tensorflow as tf\r\n",
    "from tensorflow.keras.utils import to_categorical\r\n",
    "from tensorflow.keras.models import Sequential\r\n",
    "from tensorflow.keras.layers import Conv2D, MaxPooling2D, Dense, Flatten\r\n",
    "from sklearn.model_selection import train_test_split\r\n",
    "from sklearn.preprocessing import MinMaxScaler\r\n",
    "\r\n",
    "# Import other modules.\r\n",
    "import numpy as np\r\n",
    "import pandas as pd\r\n",
    "import matplotlib.pyplot as plt\r\n",
    "import pickle\r\n",
    "from os import walk\r\n",
    "from time import sleep\r\n",
    "from IPython.display import clear_output\r\n",
    "%matplotlib inline\r\n",
    "\r\n",
    "# Data source: https://www.kaggle.com/stephenmugisha/particle-collisions\r\n",
    "\r\n",
    "_, _, files = next(walk('data'))\r\n",
    "\r\n",
    "target_names = {\r\n",
    "    '0': 'electron',    # Negatively charged particle that is a lepton  (doesn't take part in strong force).\r\n",
    "    '1': 'muon',    # Electron with 200 times more mass and makes up lots of cosmic radiation.\r\n",
    "    '2': 'pion',    # Meson (connects with strong force) that can be positive, negative, or neutral\r\n",
    "    '3': 'kaon',    # Pion with more mass.\r\n",
    "    '4': 'proton'    # Positively charged particle with 2 up quarks and 1 down quark.\r\n",
    "}\r\n",
    "\r\n",
    "# Check how the data is formatted/stored.\r\n",
    "file_test = open(f'data/{files[0]}', 'rb')\r\n",
    "file = pickle.load(file_test)\r\n",
    "\r\n",
    "print(file[0].shape)    # Group of 3000 images.\r\n",
    "print(file[0][0].shape)    # Check first image.\r\n",
    "print(file[1].shape)    # Group of 3000 targets.\r\n",
    "print(file[1][0])    #    Classified as 'pion.'\r\n",
    "\r\n",
    "# Collect all the data.\r\n",
    "data = []\r\n",
    "target = []\r\n",
    "\r\n",
    "for file in files:\r\n",
    "    file = open(f'data/{files[0]}', 'rb')\r\n",
    "    file =  pickle.load(file)\r\n",
    "\r\n",
    "    for sample, sample_target in zip(file[0], file[1]):\r\n",
    "        data.append(sample)\r\n",
    "        target.append(sample_target)\r\n",
    "\r\n",
    "data = np.array(data)\r\n",
    "target = np.array(target)\r\n",
    "\r\n",
    "print(data.shape)\r\n",
    "print(target.shape)\r\n",
    "\r\n",
    "data = data[::17]\r\n",
    "target = target[::17]\r\n",
    "\r\n",
    "sleep(7)\r\n",
    "clear_output()\r\n",
    "\r\n",
    "print(data.shape)\r\n",
    "print(target.shape)\r\n"
   ]
  },
  {
   "cell_type": "markdown",
   "metadata": {},
   "source": [
    "#### Data analysis"
   ]
  },
  {
   "cell_type": "code",
   "execution_count": 2,
   "metadata": {},
   "outputs": [
    {
     "name": "stdout",
     "output_type": "stream",
     "text": [
      "(55557, 10, 10, 1)\n",
      "(55557, 5)\n",
      "(18520, 10, 10, 1)\n",
      "(18520, 5)\n"
     ]
    },
    {
     "data": {
      "image/png": "[encoded data removed]",
      "text/plain": "<Figure size 648x432 with 6 Axes>"
     },
     "metadata": {},
     "output_type": "display_data"
    }
   ],
   "source": [
    "# Check for NaN values.\r\n",
    "print(np.isnan(np.sum(data)))    # -> False\r\n",
    "\r\n",
    "# Check range of values.\r\n",
    "print(np.max(data), np.min(data))    # -> 8, 0\r\n",
    "\r\n",
    "sleep(4)\r\n",
    "clear_output()\r\n",
    "\r\n",
    "# Edit target values to 0, 1, 2....\r\n",
    "new_target = []\r\n",
    "\r\n",
    "for tar in target:\r\n",
    "    if tar == 11:\r\n",
    "        new_target.append(0)\r\n",
    "    elif tar == 13:\r\n",
    "        new_target.append(1)\r\n",
    "    elif tar == 211:\r\n",
    "        new_target.append(2)\r\n",
    "    elif tar == 321:\r\n",
    "        new_target.append(3)\r\n",
    "    else:\r\n",
    "        new_target.append(4)\r\n",
    "    \r\n",
    "target = np.array(new_target)\r\n",
    "\r\n",
    "# Get indexes for each different target possibility.\r\n",
    "indexes = [\r\n",
    "    np.where(target == 0)[0][0],\r\n",
    "    np.where(target == 1)[0][0],\r\n",
    "    np.where(target == 2)[0][0],\r\n",
    "    np.where(target == 3)[0][0],\r\n",
    "    np.where(target == 4)[0][0],\r\n",
    "]\r\n",
    "\r\n",
    "samples = [data[index] for index in indexes]\r\n",
    "samples_target = [target_names[str(target[index])] for index in indexes]\r\n",
    "\r\n",
    "fig, axs = plt.subplots(2, 3, figsize=(9, 6), subplot_kw={\r\n",
    "    'yticks': (),\r\n",
    "    'xticks': ()\r\n",
    "})\r\n",
    "\r\n",
    "axs = [ax for ax in axs.flatten()]\r\n",
    "\r\n",
    "for sample, sample_target, ax in zip(samples, samples_target, axs):\r\n",
    "    ax.imshow(sample, cmap='binary')\r\n",
    "    ax.set_title(f'Sample Target {sample_target}')\r\n",
    "\r\n",
    "# Split the data\r\n",
    "X_train, X_test, y_train, y_test = train_test_split(data, target, stratify=target)\r\n",
    "\r\n",
    "# Change the train and test datasets.\r\n",
    "scaler = MinMaxScaler()\r\n",
    "\r\n",
    "# Reshape + change data\r\n",
    "X_train = X_train.reshape(X_train.shape[0], -1)\r\n",
    "X_test = X_test.reshape(X_test.shape[0], -1)\r\n",
    "\r\n",
    "# Scale and reshape data back to og form.\r\n",
    "X_train = (scaler.fit_transform(X_train)).reshape((55557, 10, 10, 1))\r\n",
    "X_test = (scaler.transform(X_test)).reshape((18520, 10, 10, 1))\r\n",
    "\r\n",
    "y_train = to_categorical(y_train)\r\n",
    "y_test = to_categorical(y_test)\r\n",
    "\r\n",
    "print(X_train.shape)\r\n",
    "print(y_train.shape)\r\n",
    "print(X_test.shape)\r\n",
    "print(y_test.shape)\r\n"
   ]
  },
  {
   "cell_type": "markdown",
   "metadata": {},
   "source": [
    "#### Create Model"
   ]
  },
  {
   "cell_type": "code",
   "execution_count": 21,
   "metadata": {},
   "outputs": [
    {
     "name": "stdout",
     "output_type": "stream",
     "text": [
      "Epoch 1/5\n",
      "435/435 [==============================] - 1s 2ms/step - loss: 0.8700 - accuracy: 0.7766\n",
      "Epoch 2/5\n",
      "435/435 [==============================] - 1s 2ms/step - loss: 0.7165 - accuracy: 0.7789\n",
      "Epoch 3/5\n",
      "435/435 [==============================] - 1s 2ms/step - loss: 0.7023 - accuracy: 0.7789\n",
      "Epoch 4/5\n",
      "435/435 [==============================] - 1s 2ms/step - loss: 0.6980 - accuracy: 0.7789\n",
      "Epoch 5/5\n",
      "435/435 [==============================] - 1s 2ms/step - loss: 0.6961 - accuracy: 0.7789\n"
     ]
    }
   ],
   "source": [
    "class model(tf.keras.Model):\r\n",
    "    def __init__(self):\r\n",
    "        super(model, self).__init__()\r\n",
    "        self.input_1 = MaxPooling2D((2, 2))\r\n",
    "        self.input_2 = Flatten()    # Changes the shape from (1, 10, 10, 1) -> (1, 100)\r\n",
    "        self.hidden_1 = Dense(50, activation='relu')\r\n",
    "        self.hidden_2 = Dense(50, activation='relu')\r\n",
    "        self.output_layer = Dense(5, activation='softmax')\r\n",
    "    \r\n",
    "    def call(self, inputs):\r\n",
    "        h = self.input_1(inputs)\r\n",
    "        h = self.input_2(h)\r\n",
    "        h = self.hidden_1(h)\r\n",
    "        h = self.hidden_2(h)\r\n",
    "        return self.output_layer(h)\r\n",
    "\r\n",
    "model = model()\r\n",
    "\r\n",
    "model.build(input_shape=(1, 10, 10, 1))\r\n",
    "model.compile(optimizer='sgd', loss='categorical_crossentropy', metrics=['accuracy'])\r\n",
    "\r\n",
    "results = model.fit(X_train, y_train, epochs=5, batch_size=128)\r\n"
   ]
  }
 ],
 "metadata": {
  "kernelspec": {
   "display_name": "Python 3.8.5 64-bit (conda)",
   "metadata": {
    "interpreter": {
     "hash": "b3484043eee5ff5607422914000474778a896e23428dfc35313a8be46de07a70"
    }
   },
   "name": "python3"
  },
  "language_info": {
   "codemirror_mode": {
    "name": "ipython",
    "version": 3
   },
   "file_extension": ".py",
   "mimetype": "text/x-python",
   "name": "python",
   "nbconvert_exporter": "python",
   "pygments_lexer": "ipython3",
   "version": "3.8.5"
  },
  "orig_nbformat": 2
 },
 "nbformat": 4,
 "nbformat_minor": 2
}